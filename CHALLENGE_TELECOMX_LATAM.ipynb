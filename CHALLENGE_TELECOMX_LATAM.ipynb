{
  "nbformat": 4,
  "nbformat_minor": 0,
  "metadata": {
    "colab": {
      "provenance": [],
      "authorship_tag": "ABX9TyPkpn78lj4TwZH0Ze+2ACbI",
      "include_colab_link": true
    },
    "kernelspec": {
      "name": "python3",
      "display_name": "Python 3"
    },
    "language_info": {
      "name": "python"
    }
  },
  "cells": [
    {
      "cell_type": "markdown",
      "metadata": {
        "id": "view-in-github",
        "colab_type": "text"
      },
      "source": [
        "<a href=\"https://colab.research.google.com/github/Ivan8Garcia/challenge-data-science/blob/main/CHALLENGE_TELECOMX_LATAM.ipynb\" target=\"_parent\"><img src=\"https://colab.research.google.com/assets/colab-badge.svg\" alt=\"Open In Colab\"/></a>"
      ]
    },
    {
      "cell_type": "markdown",
      "source": [
        "#**EXTRACCION**"
      ],
      "metadata": {
        "id": "oHPld7SVrfcD"
      }
    },
    {
      "cell_type": "code",
      "source": [],
      "metadata": {
        "id": "iljnXY2FrkXJ"
      },
      "execution_count": null,
      "outputs": []
    },
    {
      "cell_type": "markdown",
      "source": [
        "#**TRANSFORMACION**"
      ],
      "metadata": {
        "id": "dIHzue4-rmOR"
      }
    },
    {
      "cell_type": "code",
      "source": [],
      "metadata": {
        "id": "gVd-8UdsruAT"
      },
      "execution_count": null,
      "outputs": []
    },
    {
      "cell_type": "markdown",
      "source": [
        "#**CARGA Y ANALISIS**"
      ],
      "metadata": {
        "id": "_qWhG-4qru6D"
      }
    },
    {
      "cell_type": "code",
      "source": [],
      "metadata": {
        "id": "gu0tq4Z5r0ke"
      },
      "execution_count": null,
      "outputs": []
    },
    {
      "cell_type": "markdown",
      "source": [
        "#**INFORME FINAL**"
      ],
      "metadata": {
        "id": "9gaJChqsr1pm"
      }
    },
    {
      "cell_type": "code",
      "source": [],
      "metadata": {
        "id": "9f5Et1Ipr5uu"
      },
      "execution_count": null,
      "outputs": []
    }
  ]
}